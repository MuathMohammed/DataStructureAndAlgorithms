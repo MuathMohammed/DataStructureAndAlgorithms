{
  "nbformat": 4,
  "nbformat_minor": 0,
  "metadata": {
    "colab": {
      "provenance": [],
      "authorship_tag": "ABX9TyMzY+lOwVdDzFm35sqB27qD",
      "include_colab_link": true
    },
    "kernelspec": {
      "name": "python3",
      "display_name": "Python 3"
    },
    "language_info": {
      "name": "python"
    }
  },
  "cells": [
    {
      "cell_type": "markdown",
      "metadata": {
        "id": "view-in-github",
        "colab_type": "text"
      },
      "source": [
        "<a href=\"https://colab.research.google.com/github/MuathMohammed/DataStructureAndAlgorithms/blob/master/TaskNumpy.ipynb\" target=\"_parent\"><img src=\"https://colab.research.google.com/assets/colab-badge.svg\" alt=\"Open In Colab\"/></a>"
      ]
    },
    {
      "cell_type": "markdown",
      "source": [
        "# #Task 1"
      ],
      "metadata": {
        "id": "t00368utyiqF"
      }
    },
    {
      "cell_type": "code",
      "execution_count": 72,
      "metadata": {
        "id": "ggOLXHHBUq_y"
      },
      "outputs": [],
      "source": [
        "import numpy as np"
      ]
    },
    {
      "cell_type": "code",
      "source": [
        "def describe(arr):\n",
        "  print('*'*10 + ' Describe The Array ' + '*'*10)\n",
        "  print(f'the Dmensions: {arr.ndim}')\n",
        "  print(f'the Shape: {arr.shape}')\n",
        "  print(f'the Size: {arr.size}')\n",
        "  print(f'the Dtype: {arr.dtype}')\n"
      ],
      "metadata": {
        "id": "Y2_nd4KlVnNI"
      },
      "execution_count": 62,
      "outputs": []
    },
    {
      "cell_type": "code",
      "source": [
        "list1 = [1,2,3,4,5]\n",
        "list2 = [6,7,8,9,10]\n",
        "arr = np.array((11,12,13,14,15))\n",
        "print(list1,list2)\n",
        "arr\n"
      ],
      "metadata": {
        "colab": {
          "base_uri": "https://localhost:8080/"
        },
        "id": "Wx_HF9vpWxrO",
        "outputId": "462b1bc7-3f5b-4d8d-da44-90c76f7a7cd6"
      },
      "execution_count": 13,
      "outputs": [
        {
          "output_type": "stream",
          "name": "stdout",
          "text": [
            "[1, 2, 3, 4, 5] [6, 7, 8, 9, 10]\n"
          ]
        },
        {
          "output_type": "execute_result",
          "data": {
            "text/plain": [
              "array([11, 12, 13, 14, 15])"
            ]
          },
          "metadata": {},
          "execution_count": 13
        }
      ]
    },
    {
      "cell_type": "code",
      "source": [
        "arr2 = np.array([list1, list2], dtype=np.float64)"
      ],
      "metadata": {
        "id": "7CAv-vBYXhoD"
      },
      "execution_count": 15,
      "outputs": []
    },
    {
      "cell_type": "code",
      "source": [
        "arr3 = np.ones((5,5))\n",
        "arr4 = np.zeros((5,5))\n",
        "arr5 = np.arange(20)\n",
        "print(arr3)\n",
        "print('*'*30)\n",
        "print(arr4)\n",
        "print('*'*30)\n",
        "print(arr5)"
      ],
      "metadata": {
        "colab": {
          "base_uri": "https://localhost:8080/"
        },
        "id": "xBAupGHGYB88",
        "outputId": "c64d7107-5ca4-4560-be05-377e903e1411"
      },
      "execution_count": 24,
      "outputs": [
        {
          "output_type": "stream",
          "name": "stdout",
          "text": [
            "[[1. 1. 1. 1. 1.]\n",
            " [1. 1. 1. 1. 1.]\n",
            " [1. 1. 1. 1. 1.]\n",
            " [1. 1. 1. 1. 1.]\n",
            " [1. 1. 1. 1. 1.]]\n",
            "******************************\n",
            "[[0. 0. 0. 0. 0.]\n",
            " [0. 0. 0. 0. 0.]\n",
            " [0. 0. 0. 0. 0.]\n",
            " [0. 0. 0. 0. 0.]\n",
            " [0. 0. 0. 0. 0.]]\n",
            "******************************\n",
            "[ 0  1  2  3  4  5  6  7  8  9 10 11 12 13 14 15 16 17 18 19]\n"
          ]
        }
      ]
    },
    {
      "cell_type": "code",
      "source": [
        "arr6 = np.array(np.linspace(0,10,30),dtype = np.float64)\n",
        "\n",
        "arr6"
      ],
      "metadata": {
        "colab": {
          "base_uri": "https://localhost:8080/"
        },
        "id": "Fgug5bqJZ9n7",
        "outputId": "7a4dbcac-8326-4d37-c197-3df78e67cee4"
      },
      "execution_count": 32,
      "outputs": [
        {
          "output_type": "execute_result",
          "data": {
            "text/plain": [
              "array([ 0.        ,  0.34482759,  0.68965517,  1.03448276,  1.37931034,\n",
              "        1.72413793,  2.06896552,  2.4137931 ,  2.75862069,  3.10344828,\n",
              "        3.44827586,  3.79310345,  4.13793103,  4.48275862,  4.82758621,\n",
              "        5.17241379,  5.51724138,  5.86206897,  6.20689655,  6.55172414,\n",
              "        6.89655172,  7.24137931,  7.5862069 ,  7.93103448,  8.27586207,\n",
              "        8.62068966,  8.96551724,  9.31034483,  9.65517241, 10.        ])"
            ]
          },
          "metadata": {},
          "execution_count": 32
        }
      ]
    },
    {
      "cell_type": "code",
      "source": [
        "arr7 = np.random.rand(2,3)\n",
        "arr7"
      ],
      "metadata": {
        "colab": {
          "base_uri": "https://localhost:8080/"
        },
        "id": "gnXOYM2JcgPf",
        "outputId": "3ada658c-f87c-4dd0-f6c0-842a5f57184a"
      },
      "execution_count": 27,
      "outputs": [
        {
          "output_type": "execute_result",
          "data": {
            "text/plain": [
              "array([[0.62667054, 0.07720296, 0.01807869],\n",
              "       [0.43083026, 0.41353006, 0.78216179]])"
            ]
          },
          "metadata": {},
          "execution_count": 27
        }
      ]
    },
    {
      "cell_type": "code",
      "source": [],
      "metadata": {
        "id": "7MHRlcEzsqp3"
      },
      "execution_count": null,
      "outputs": []
    },
    {
      "cell_type": "code",
      "source": [
        "arr8 = np.random.randint(0,30,10)\n",
        "arr8"
      ],
      "metadata": {
        "colab": {
          "base_uri": "https://localhost:8080/"
        },
        "id": "oZ1XCqcOhH6o",
        "outputId": "663b6e96-885e-4deb-f2e5-1845998b1e04"
      },
      "execution_count": 30,
      "outputs": [
        {
          "output_type": "execute_result",
          "data": {
            "text/plain": [
              "array([ 4, 11,  5, 17, 11,  9, 24, 29, 26, 12])"
            ]
          },
          "metadata": {},
          "execution_count": 30
        }
      ]
    },
    {
      "cell_type": "code",
      "source": [
        "arr9 = np.random.randn(6,7)\n",
        "arr9"
      ],
      "metadata": {
        "colab": {
          "base_uri": "https://localhost:8080/"
        },
        "id": "pLOiAAQvsdV3",
        "outputId": "2abf45f4-f58d-41d8-c683-5b849885ff83"
      },
      "execution_count": 31,
      "outputs": [
        {
          "output_type": "execute_result",
          "data": {
            "text/plain": [
              "array([[ 0.15109105, -0.87523584,  0.48526616, -0.05394774,  1.13038567,\n",
              "        -0.13763399, -0.03127683],\n",
              "       [-0.39453688, -1.1824488 ,  0.38219958, -1.72530664,  0.14426203,\n",
              "        -0.51660948,  1.31193067],\n",
              "       [-1.07868436, -1.74147332,  0.46676149,  1.04095845,  1.36140314,\n",
              "        -0.1073852 , -0.18927174],\n",
              "       [ 1.07064838, -0.37339106,  1.34379768, -0.82180985, -1.21407603,\n",
              "         1.05786149,  0.80412474],\n",
              "       [-0.38916908,  0.13113217,  2.5543241 ,  1.01786783, -1.02237068,\n",
              "        -0.1031076 ,  0.20769703],\n",
              "       [-0.72657894,  0.1349916 , -1.63613145, -0.43158219,  1.01685825,\n",
              "         0.08655268, -1.72052717]])"
            ]
          },
          "metadata": {},
          "execution_count": 31
        }
      ]
    },
    {
      "cell_type": "code",
      "source": [
        "arr10 = arr6.reshape(30)\n",
        "arr10"
      ],
      "metadata": {
        "colab": {
          "base_uri": "https://localhost:8080/"
        },
        "id": "ry0T-nw4us21",
        "outputId": "f81b7b65-0e08-49f2-c03b-7e2afb047c21"
      },
      "execution_count": 33,
      "outputs": [
        {
          "output_type": "execute_result",
          "data": {
            "text/plain": [
              "array([ 0.        ,  0.34482759,  0.68965517,  1.03448276,  1.37931034,\n",
              "        1.72413793,  2.06896552,  2.4137931 ,  2.75862069,  3.10344828,\n",
              "        3.44827586,  3.79310345,  4.13793103,  4.48275862,  4.82758621,\n",
              "        5.17241379,  5.51724138,  5.86206897,  6.20689655,  6.55172414,\n",
              "        6.89655172,  7.24137931,  7.5862069 ,  7.93103448,  8.27586207,\n",
              "        8.62068966,  8.96551724,  9.31034483,  9.65517241, 10.        ])"
            ]
          },
          "metadata": {},
          "execution_count": 33
        }
      ]
    },
    {
      "cell_type": "code",
      "source": [
        "arr11 = np.ones_like(arr10)\n",
        "arr11   #that return ones but the same nu muber of valuse in matrix arr10"
      ],
      "metadata": {
        "colab": {
          "base_uri": "https://localhost:8080/"
        },
        "id": "oqA-UHrBwJKE",
        "outputId": "9611b21a-0a45-4b54-ae52-bdbe1077b941"
      },
      "execution_count": 35,
      "outputs": [
        {
          "output_type": "execute_result",
          "data": {
            "text/plain": [
              "array([1., 1., 1., 1., 1., 1., 1., 1., 1., 1., 1., 1., 1., 1., 1., 1., 1.,\n",
              "       1., 1., 1., 1., 1., 1., 1., 1., 1., 1., 1., 1., 1.])"
            ]
          },
          "metadata": {},
          "execution_count": 35
        }
      ]
    },
    {
      "cell_type": "code",
      "source": [
        "arr12 = np.full(shape = (2, 3, 10), fill_value= 55) # 3-demsion\n",
        "arr12"
      ],
      "metadata": {
        "colab": {
          "base_uri": "https://localhost:8080/"
        },
        "id": "1irlpamQwebM",
        "outputId": "6c555e3a-6281-46f0-f62e-3d703586265e"
      },
      "execution_count": 36,
      "outputs": [
        {
          "output_type": "execute_result",
          "data": {
            "text/plain": [
              "array([[[55, 55, 55, 55, 55, 55, 55, 55, 55, 55],\n",
              "        [55, 55, 55, 55, 55, 55, 55, 55, 55, 55],\n",
              "        [55, 55, 55, 55, 55, 55, 55, 55, 55, 55]],\n",
              "\n",
              "       [[55, 55, 55, 55, 55, 55, 55, 55, 55, 55],\n",
              "        [55, 55, 55, 55, 55, 55, 55, 55, 55, 55],\n",
              "        [55, 55, 55, 55, 55, 55, 55, 55, 55, 55]]])"
            ]
          },
          "metadata": {},
          "execution_count": 36
        }
      ]
    },
    {
      "cell_type": "code",
      "source": [
        "arr13 = np.eye(5)\n",
        "arr13 # i don't know name this matrix !!"
      ],
      "metadata": {
        "colab": {
          "base_uri": "https://localhost:8080/"
        },
        "id": "QBb6D4nAxhNj",
        "outputId": "02b42ebb-3d56-4018-97b2-209990d06010"
      },
      "execution_count": 37,
      "outputs": [
        {
          "output_type": "execute_result",
          "data": {
            "text/plain": [
              "array([[1., 0., 0., 0., 0.],\n",
              "       [0., 1., 0., 0., 0.],\n",
              "       [0., 0., 1., 0., 0.],\n",
              "       [0., 0., 0., 1., 0.],\n",
              "       [0., 0., 0., 0., 1.]])"
            ]
          },
          "metadata": {},
          "execution_count": 37
        }
      ]
    },
    {
      "cell_type": "code",
      "source": [
        "print(arr13)\n",
        "describe(arr13)"
      ],
      "metadata": {
        "colab": {
          "base_uri": "https://localhost:8080/"
        },
        "id": "7jFXqwwW1ML8",
        "outputId": "f1468eec-20ab-432d-f6c3-8256de7ef0ee"
      },
      "execution_count": 63,
      "outputs": [
        {
          "output_type": "stream",
          "name": "stdout",
          "text": [
            "[[1. 0. 0. 0. 0.]\n",
            " [0. 1. 0. 0. 0.]\n",
            " [0. 0. 1. 0. 0.]\n",
            " [0. 0. 0. 1. 0.]\n",
            " [0. 0. 0. 0. 1.]]\n",
            "********** Describe The Array **********\n",
            "the Dmensions: 2\n",
            "the Shape: (5, 5)\n",
            "the Size: 25\n",
            "the Dtype: float64\n"
          ]
        }
      ]
    },
    {
      "cell_type": "markdown",
      "source": [
        "# #Task 2"
      ],
      "metadata": {
        "id": "BofU-6RUy38k"
      }
    },
    {
      "cell_type": "code",
      "source": [
        "a = np.arange(1,21)\n",
        "b = np.arange(20,40)"
      ],
      "metadata": {
        "id": "i-SiUaEHySGz"
      },
      "execution_count": 45,
      "outputs": []
    },
    {
      "cell_type": "code",
      "source": [
        "print('a:', a )   #1*20\n",
        "print('b:', b)    #1*20"
      ],
      "metadata": {
        "colab": {
          "base_uri": "https://localhost:8080/"
        },
        "id": "jA9PfS8DzY5b",
        "outputId": "f83c375d-e39a-4d88-a57f-bf96b113292f"
      },
      "execution_count": 46,
      "outputs": [
        {
          "output_type": "stream",
          "name": "stdout",
          "text": [
            "a: [ 1  2  3  4  5  6  7  8  9 10 11 12 13 14 15 16 17 18 19 20]\n",
            "b: [20 21 22 23 24 25 26 27 28 29 30 31 32 33 34 35 36 37 38 39]\n"
          ]
        }
      ]
    },
    {
      "cell_type": "code",
      "source": [
        "print('a + b:', a + b)\n",
        "print('-'*40)\n",
        "\n"
      ],
      "metadata": {
        "colab": {
          "base_uri": "https://localhost:8080/"
        },
        "id": "DK7vw0zGzcv6",
        "outputId": "b7cd72e2-dca3-457d-8776-b099e9abab16"
      },
      "execution_count": 48,
      "outputs": [
        {
          "output_type": "stream",
          "name": "stdout",
          "text": [
            "a + b: [21 23 25 27 29 31 33 35 37 39 41 43 45 47 49 51 53 55 57 59]\n",
            "----------------------------------------\n",
            "a - b: [-19 -19 -19 -19 -19 -19 -19 -19 -19 -19 -19 -19 -19 -19 -19 -19 -19 -19\n",
            " -19 -19]\n",
            "----------------------------------------\n",
            "a * b: [ 20  42  66  92 120 150 182 216 252 290 330 372 416 462 510 560 612 666\n",
            " 722 780]\n",
            "----------------------------------------\n",
            "a / b: [20.         10.5         7.33333333  5.75        4.8         4.16666667\n",
            "  3.71428571  3.375       3.11111111  2.9         2.72727273  2.58333333\n",
            "  2.46153846  2.35714286  2.26666667  2.1875      2.11764706  2.05555556\n",
            "  2.          1.95      ]\n",
            "----------------------------------------\n"
          ]
        }
      ]
    },
    {
      "cell_type": "code",
      "source": [
        "print('a - b:', a - b)\n",
        "print('-'*40)"
      ],
      "metadata": {
        "colab": {
          "base_uri": "https://localhost:8080/"
        },
        "id": "gDNVsNhEztLB",
        "outputId": "dd97bf4f-11be-44c2-e1e6-93a3c73e5bcc"
      },
      "execution_count": 49,
      "outputs": [
        {
          "output_type": "stream",
          "name": "stdout",
          "text": [
            "a - b: [-19 -19 -19 -19 -19 -19 -19 -19 -19 -19 -19 -19 -19 -19 -19 -19 -19 -19\n",
            " -19 -19]\n",
            "----------------------------------------\n"
          ]
        }
      ]
    },
    {
      "cell_type": "code",
      "source": [
        "print('a * b:', a * b)\n",
        "print('-'*40)"
      ],
      "metadata": {
        "colab": {
          "base_uri": "https://localhost:8080/"
        },
        "id": "GJG9nZ4iz8ii",
        "outputId": "09251906-9a99-4942-adf3-156273395ad9"
      },
      "execution_count": 50,
      "outputs": [
        {
          "output_type": "stream",
          "name": "stdout",
          "text": [
            "a * b: [ 20  42  66  92 120 150 182 216 252 290 330 372 416 462 510 560 612 666\n",
            " 722 780]\n",
            "----------------------------------------\n"
          ]
        }
      ]
    },
    {
      "cell_type": "code",
      "source": [
        "print('a / b:', b / a)\n",
        "print('-'*40)"
      ],
      "metadata": {
        "colab": {
          "base_uri": "https://localhost:8080/"
        },
        "id": "oKUPJDYdz-s9",
        "outputId": "b02b960f-c783-4abb-a5d4-a88f85d8db3a"
      },
      "execution_count": 51,
      "outputs": [
        {
          "output_type": "stream",
          "name": "stdout",
          "text": [
            "a / b: [20.         10.5         7.33333333  5.75        4.8         4.16666667\n",
            "  3.71428571  3.375       3.11111111  2.9         2.72727273  2.58333333\n",
            "  2.46153846  2.35714286  2.26666667  2.1875      2.11764706  2.05555556\n",
            "  2.          1.95      ]\n",
            "----------------------------------------\n"
          ]
        }
      ]
    },
    {
      "cell_type": "code",
      "source": [
        "print('a + 10:', a + 10)"
      ],
      "metadata": {
        "colab": {
          "base_uri": "https://localhost:8080/"
        },
        "id": "RsUdCT1e0AzZ",
        "outputId": "ba7d4ac9-4488-4aa6-8c2a-879605fd6334"
      },
      "execution_count": 52,
      "outputs": [
        {
          "output_type": "stream",
          "name": "stdout",
          "text": [
            "a + 10: [11 12 13 14 15 16 17 18 19 20 21 22 23 24 25 26 27 28 29 30]\n"
          ]
        }
      ]
    },
    {
      "cell_type": "code",
      "source": [
        "print('a - 10:',a - 10)"
      ],
      "metadata": {
        "colab": {
          "base_uri": "https://localhost:8080/"
        },
        "id": "Ho83kYsh0F0Z",
        "outputId": "06f3bed4-98a2-4ad2-f368-37123e5d4845"
      },
      "execution_count": 53,
      "outputs": [
        {
          "output_type": "stream",
          "name": "stdout",
          "text": [
            "a - 10: [-9 -8 -7 -6 -5 -4 -3 -2 -1  0  1  2  3  4  5  6  7  8  9 10]\n"
          ]
        }
      ]
    },
    {
      "cell_type": "code",
      "source": [
        "print('a * 10:',a * 10)"
      ],
      "metadata": {
        "colab": {
          "base_uri": "https://localhost:8080/"
        },
        "id": "7fXAs_cY0H_i",
        "outputId": "87a4455e-32c3-49a7-e493-fed5b9dad6f3"
      },
      "execution_count": 54,
      "outputs": [
        {
          "output_type": "stream",
          "name": "stdout",
          "text": [
            "a * 10: [ 10  20  30  40  50  60  70  80  90 100 110 120 130 140 150 160 170 180\n",
            " 190 200]\n"
          ]
        }
      ]
    },
    {
      "cell_type": "code",
      "source": [
        "print('a / 10:',a / 10)"
      ],
      "metadata": {
        "colab": {
          "base_uri": "https://localhost:8080/"
        },
        "id": "ltA4DKLE0JnR",
        "outputId": "5b7757e3-4481-4f65-942b-7cdb9298db00"
      },
      "execution_count": 55,
      "outputs": [
        {
          "output_type": "stream",
          "name": "stdout",
          "text": [
            "a / 10: [0.1 0.2 0.3 0.4 0.5 0.6 0.7 0.8 0.9 1.  1.1 1.2 1.3 1.4 1.5 1.6 1.7 1.8\n",
            " 1.9 2. ]\n"
          ]
        }
      ]
    },
    {
      "cell_type": "code",
      "source": [
        "print('a ** 10:',a ** 2)"
      ],
      "metadata": {
        "colab": {
          "base_uri": "https://localhost:8080/"
        },
        "id": "1OrE_9wD0LEZ",
        "outputId": "821b23f2-4774-4cb1-a589-36f48ad502b4"
      },
      "execution_count": 56,
      "outputs": [
        {
          "output_type": "stream",
          "name": "stdout",
          "text": [
            "a ** 10: [  1   4   9  16  25  36  49  64  81 100 121 144 169 196 225 256 289 324\n",
            " 361 400]\n"
          ]
        }
      ]
    },
    {
      "cell_type": "code",
      "source": [
        "c = np.array([[1], [2], [3], [4], [5],[6],[7],[8],[9],[10],[11],[12],[13],[14],[15],[16],[17],[18],[19],[20]]) # 2-D 5 rows & 1 column"
      ],
      "metadata": {
        "id": "JxDCYMsh0NvU"
      },
      "execution_count": 65,
      "outputs": []
    },
    {
      "cell_type": "code",
      "source": [
        "print(c)\n",
        "print('a.c:',a.dot(c))  #  1*20 . 5*1 = 1*1"
      ],
      "metadata": {
        "colab": {
          "base_uri": "https://localhost:8080/"
        },
        "id": "roD3z0Rj0_AJ",
        "outputId": "5f5faff2-58e0-414e-f5de-736259a88f86"
      },
      "execution_count": 66,
      "outputs": [
        {
          "output_type": "stream",
          "name": "stdout",
          "text": [
            "[[ 1]\n",
            " [ 2]\n",
            " [ 3]\n",
            " [ 4]\n",
            " [ 5]\n",
            " [ 6]\n",
            " [ 7]\n",
            " [ 8]\n",
            " [ 9]\n",
            " [10]\n",
            " [11]\n",
            " [12]\n",
            " [13]\n",
            " [14]\n",
            " [15]\n",
            " [16]\n",
            " [17]\n",
            " [18]\n",
            " [19]\n",
            " [20]]\n",
            "a.c: [2870]\n"
          ]
        }
      ]
    },
    {
      "cell_type": "code",
      "source": [
        "print('-'*40,'\\nstatistics over whole array (all elements)')\n",
        "\n",
        "print('c min', c.min())\n",
        "print('c max', c.max())\n",
        "print('c sum', c.sum())\n",
        "print('c mean', c.mean())\n",
        "#print('c mode:', c.mode[0])"
      ],
      "metadata": {
        "colab": {
          "base_uri": "https://localhost:8080/"
        },
        "id": "clWrAKsW1DfA",
        "outputId": "01dacecd-da96-4ea9-a81e-74d6db08cd36"
      },
      "execution_count": 76,
      "outputs": [
        {
          "output_type": "stream",
          "name": "stdout",
          "text": [
            "---------------------------------------- \n",
            "statistics over whole array (all elements)\n",
            "c min 1\n",
            "c max 20\n",
            "c sum 210\n",
            "c mean 10.5\n"
          ]
        }
      ]
    },
    {
      "cell_type": "code",
      "source": [
        "d = np.array([[10,20], [30,40], [50,60], [70,80]])\n",
        "print(d)\n",
        "print('d min (columns)', d.min(axis =0))\n",
        "print('d min (rows)', d.min(axis =1))\n",
        "print('d max (columns)', d.max(axis =0))\n",
        "print('d max (rows)', d.max(axis =1))\n",
        "print('d sum (columns)', d.sum(axis =0))\n",
        "print('d sum (rows)', d.sum(axis =1))\n",
        "print('d mean (columns)', d.mean(axis =0))\n",
        "print('d mean (rows)', d.mean(axis =1))"
      ],
      "metadata": {
        "colab": {
          "base_uri": "https://localhost:8080/"
        },
        "id": "YRsTTlcS2zt3",
        "outputId": "ca0292df-a4c7-4c59-8b17-1451f076f991"
      },
      "execution_count": 75,
      "outputs": [
        {
          "output_type": "stream",
          "name": "stdout",
          "text": [
            "[[10 20]\n",
            " [30 40]\n",
            " [50 60]\n",
            " [70 80]]\n",
            "d min (columns) [10 20]\n",
            "d min (rows) [10 30 50 70]\n",
            "d max (columns) [70 80]\n",
            "d max (rows) [20 40 60 80]\n",
            "d sum (columns) [160 200]\n",
            "d sum (rows) [ 30  70 110 150]\n",
            "d mean (columns) [40. 50.]\n",
            "d mean (rows) [15. 35. 55. 75.]\n"
          ]
        }
      ]
    },
    {
      "cell_type": "code",
      "source": [],
      "metadata": {
        "id": "EqtIsnyN4r3f"
      },
      "execution_count": null,
      "outputs": []
    }
  ]
}